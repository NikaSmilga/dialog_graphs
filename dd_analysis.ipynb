{
 "cells": [
  {
   "cell_type": "code",
   "execution_count": 3,
   "metadata": {},
   "outputs": [],
   "source": [
    "import pandas as pd "
   ]
  },
  {
   "cell_type": "code",
   "execution_count": 4,
   "metadata": {},
   "outputs": [],
   "source": [
    "def assign_positions(df: pd.DataFrame, target_col: str) -> None:\n",
    "    \"\"\"Modifies the input dataframe. Customly assigns positions to target column items. \n",
    "    \n",
    "    If the item in target column is repeated consequently, the position is the same. If the item is repeated after item of other name, \n",
    "    the position is increased by 1. NB: target column is modified in-place.\n",
    "\n",
    "    Args:\n",
    "        df: Pandas dataframe with dialogs, dialog ids (must be 'dialog_id') and target column (goal/speech function/dialog act).\n",
    "        target_col: The name of the target column to which positions are assigned.\n",
    "    \"\"\"\n",
    "\n",
    "    position_counter = {}\n",
    "    new_names = []\n",
    "    prev_id = None\n",
    "    for idx, row in df.iterrows():\n",
    "        if prev_id != row['dialog_id']:\n",
    "            position_counter = {} \n",
    "            prev_id = row['dialog_id']\n",
    "        \n",
    "        if row[target_col] not in position_counter:\n",
    "            position_counter[row[target_col]] = 1\n",
    "        else:\n",
    "            if row[target_col] != df.iloc[idx - 1][target_col]:\n",
    "                position_counter[row[target_col]] += 1\n",
    "                \n",
    "        new_names.append(f\"{row[target_col]}_{position_counter[row[target_col]]}\")\n",
    "\n",
    "    df[target_col] = new_names\n",
    "    \n",
    "\n",
    "def cut_open_goal(goal: str) -> str:\n",
    "    \"\"\"Preprocesses open goals by leaving the first word and renaming some of them.\n",
    "\n",
    "    Used for preprocessing goals from open goal annotation datasets. \n",
    "    Simplified for now, more preprocessing tbd later.\n",
    "\n",
    "    Args:\n",
    "        goal: A goal.\n",
    "\n",
    "    Returns:\n",
    "      A preprocessed goal.\n",
    "    \"\"\"\n",
    "    \n",
    "    if type(goal) == str:\n",
    "        if 'agreement' in goal.split()[0]:\n",
    "            goal_processed = 'agrees'\n",
    "        else:\n",
    "            goal_processed = goal.split()[0]\n",
    "    else:\n",
    "        goal_processed = ''\n",
    "    return goal_processed\n",
    "\n",
    "\n",
    "def large_table_to_goals_df(file_name: str, anno_type: str) -> None:\n",
    "    \"\"\"REWRITE\n",
    "\n",
    "    Args:\n",
    "        file_path: Path to the file to be preprocessed. The file must be of tsv format.\n",
    "        anno_type: The type of annotation. Must be 'durec' or 'open_goal'.\n",
    "\n",
    "    Returns:\n",
    "        A preprocessed pandas DataFrame with columns 'id_and_goal' (dialog id, dialog summary in terms of goals), \n",
    "        'utt_id', 'speaker', 'utt', goal column.\n",
    "    \"\"\"\n",
    "\n",
    "    if anno_type == 'durec':\n",
    "        target_col = 'durec_goal_1'\n",
    "    elif anno_type == 'open_goal':\n",
    "        target_col = 'open_goal'\n",
    "    else:\n",
    "        raise TypeError(\"You specified a non-existent anno_type. anno_type must be 'durec' or 'open_goal'\")\n",
    "    data = pd.read_csv(file_name, sep='\\t')\n",
    "    data_smaller = data.copy()[['dialog_id', 'utt_id', 'speaker', 'utt', target_col]]\n",
    "    if anno_type == 'open_goal':\n",
    "        data_smaller.loc[:, 'open_goal_cut'] = data_smaller['open_goal'].apply(cut_open_goal)\n",
    "        assign_positions(data_smaller, 'open_goal_cut')\n",
    "        df_grouped = data_smaller.groupby('dialog_id')['open_goal_cut'].apply(list).reset_index(name='goal_list')\n",
    "    else:\n",
    "        assign_positions(data_smaller, target_col)\n",
    "        df_grouped = data_smaller.groupby('dialog_id')[target_col].apply(list).reset_index(name='goal_list')\n",
    "    df_grouped['goal_list'] = df_grouped['goal_list'].apply(lambda items: list(dict.fromkeys(items)))\n",
    "    dialog_id = df_grouped['dialog_id'].map(str)\n",
    "    list_goals = df_grouped['goal_list'].apply(lambda x: ' '.join([f'[{index+1}] {str(value)}' for index,value in enumerate(x)]))\n",
    "    df_grouped['id_and_goal'] = dialog_id + ': ' + list_goals\n",
    "    if anno_type == 'open_goal':\n",
    "        df_final = data_smaller.merge(df_grouped, how=\"outer\")[['id_and_goal', 'utt_id', 'open_goal_cut', target_col, 'speaker', 'utt']]\n",
    "    else:\n",
    "        df_final = data_smaller.merge(df_grouped, how=\"outer\")[['id_and_goal', 'utt_id', target_col, 'speaker', 'utt']]\n",
    "    return df_final"
   ]
  },
  {
   "cell_type": "code",
   "execution_count": 7,
   "metadata": {},
   "outputs": [],
   "source": [
    "durec_goals_df = large_table_to_goals_df('dialog_data/dd_annotation_results.tsv', 'durec')\n",
    "open_goals_df = large_table_to_goals_df('dialog_data/dd_annotation_results.tsv', 'open_goal')"
   ]
  },
  {
   "cell_type": "code",
   "execution_count": 9,
   "metadata": {},
   "outputs": [],
   "source": [
    "durec_goals_df.to_csv('dialog_data/processed/durec_fin.tsv', sep='\\t')\n",
    "open_goals_df.to_csv('dialog_data/processed/open_fin.tsv', sep='\\t')"
   ]
  }
 ],
 "metadata": {
  "kernelspec": {
   "display_name": "Python 3",
   "language": "python",
   "name": "python3"
  },
  "language_info": {
   "codemirror_mode": {
    "name": "ipython",
    "version": 3
   },
   "file_extension": ".py",
   "mimetype": "text/x-python",
   "name": "python",
   "nbconvert_exporter": "python",
   "pygments_lexer": "ipython3",
   "version": "3.10.9"
  },
  "orig_nbformat": 4,
  "vscode": {
   "interpreter": {
    "hash": "323def870f53619e742db08086df2a5240c20bd3785c9d281598a4ca270aa1e9"
   }
  }
 },
 "nbformat": 4,
 "nbformat_minor": 2
}
